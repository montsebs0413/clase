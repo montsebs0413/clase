{
  "nbformat": 4,
  "nbformat_minor": 0,
  "metadata": {
    "colab": {
      "provenance": []
    },
    "kernelspec": {
      "name": "python3",
      "display_name": "Python 3"
    },
    "language_info": {
      "name": "python"
    }
  },
  "cells": [
    {
      "cell_type": "markdown",
      "source": [
        "Taller heterocedasticidad"
      ],
      "metadata": {
        "id": "hbD34ZVWX08D"
      }
    },
    {
      "cell_type": "markdown",
      "source": [
        "Nicolas Bocachica\n",
        "David Lozano\n",
        "Sebastian Montaña"
      ],
      "metadata": {
        "id": "2bIXoMByrf6n"
      }
    },
    {
      "cell_type": "markdown",
      "source": [
        "1. Con el dataset sleep75:\\\n",
        "Construya un modelo que explique el tiempo de sueño de los individuos del dataset (seleccione las variables que considere relevantes).\\\n",
        "Verifique si para el modelo construido existe heterocedasticidad."
      ],
      "metadata": {
        "id": "hzR05uCPqOoj"
      }
    },
    {
      "cell_type": "code",
      "source": [
        "!pip install pandas\n"
      ],
      "metadata": {
        "colab": {
          "base_uri": "https://localhost:8080/"
        },
        "id": "YDz1A5nwnN9H",
        "outputId": "9a91e660-faf0-486d-c3d9-3dee8f19793a"
      },
      "execution_count": 32,
      "outputs": [
        {
          "output_type": "stream",
          "name": "stdout",
          "text": [
            "Looking in indexes: https://pypi.org/simple, https://us-python.pkg.dev/colab-wheels/public/simple/\n",
            "Requirement already satisfied: pandas in /usr/local/lib/python3.10/dist-packages (1.5.3)\n",
            "Requirement already satisfied: python-dateutil>=2.8.1 in /usr/local/lib/python3.10/dist-packages (from pandas) (2.8.2)\n",
            "Requirement already satisfied: pytz>=2020.1 in /usr/local/lib/python3.10/dist-packages (from pandas) (2022.7.1)\n",
            "Requirement already satisfied: numpy>=1.21.0 in /usr/local/lib/python3.10/dist-packages (from pandas) (1.22.4)\n",
            "Requirement already satisfied: six>=1.5 in /usr/local/lib/python3.10/dist-packages (from python-dateutil>=2.8.1->pandas) (1.16.0)\n",
            "Looking in indexes: https://pypi.org/simple, https://us-python.pkg.dev/colab-wheels/public/simple/\n",
            "\u001b[31mERROR: Could not find a version that satisfies the requirement statsmodels.stats.diagnostic (from versions: none)\u001b[0m\u001b[31m\n",
            "\u001b[0m\u001b[31mERROR: No matching distribution found for statsmodels.stats.diagnostic\u001b[0m\u001b[31m\n",
            "\u001b[0m"
          ]
        }
      ]
    },
    {
      "cell_type": "code",
      "execution_count": 2,
      "metadata": {
        "colab": {
          "base_uri": "https://localhost:8080/"
        },
        "id": "T-KxPg3kXvNi",
        "outputId": "0b5ff55a-700d-4769-a89e-a7b7505eb259"
      },
      "outputs": [
        {
          "output_type": "stream",
          "name": "stdout",
          "text": [
            "Looking in indexes: https://pypi.org/simple, https://us-python.pkg.dev/colab-wheels/public/simple/\n",
            "Collecting wooldridge\n",
            "  Downloading wooldridge-0.4.4-py3-none-any.whl (5.1 MB)\n",
            "\u001b[2K     \u001b[90m━━━━━━━━━━━━━━━━━━━━━━━━━━━━━━━━━━━━━━━━\u001b[0m \u001b[32m5.1/5.1 MB\u001b[0m \u001b[31m36.6 MB/s\u001b[0m eta \u001b[36m0:00:00\u001b[0m\n",
            "\u001b[?25hRequirement already satisfied: pandas in /usr/local/lib/python3.10/dist-packages (from wooldridge) (1.5.3)\n",
            "Requirement already satisfied: python-dateutil>=2.8.1 in /usr/local/lib/python3.10/dist-packages (from pandas->wooldridge) (2.8.2)\n",
            "Requirement already satisfied: pytz>=2020.1 in /usr/local/lib/python3.10/dist-packages (from pandas->wooldridge) (2022.7.1)\n",
            "Requirement already satisfied: numpy>=1.21.0 in /usr/local/lib/python3.10/dist-packages (from pandas->wooldridge) (1.22.4)\n",
            "Requirement already satisfied: six>=1.5 in /usr/local/lib/python3.10/dist-packages (from python-dateutil>=2.8.1->pandas->wooldridge) (1.16.0)\n",
            "Installing collected packages: wooldridge\n",
            "Successfully installed wooldridge-0.4.4\n"
          ]
        }
      ],
      "source": [
        "!pip install wooldridge"
      ]
    },
    {
      "cell_type": "code",
      "source": [
        "!pip install numpy"
      ],
      "metadata": {
        "colab": {
          "base_uri": "https://localhost:8080/"
        },
        "id": "_94MPzpInmHK",
        "outputId": "aca8e9b3-2c48-4946-be46-0975eff62498"
      },
      "execution_count": 34,
      "outputs": [
        {
          "output_type": "stream",
          "name": "stdout",
          "text": [
            "Looking in indexes: https://pypi.org/simple, https://us-python.pkg.dev/colab-wheels/public/simple/\n",
            "Requirement already satisfied: numpy in /usr/local/lib/python3.10/dist-packages (1.22.4)\n"
          ]
        }
      ]
    },
    {
      "cell_type": "code",
      "source": [
        "import wooldridge as wd\n",
        "import pandas as pd\n",
        "import statsmodels.api as sm\n",
        "import matplotlib.pyplot as plt\n",
        "from statsmodels.stats.diagnostic import het_breuschpagan\n"
      ],
      "metadata": {
        "id": "RmEh4yl_ZJd7"
      },
      "execution_count": 39,
      "outputs": []
    },
    {
      "cell_type": "code",
      "source": [
        "df = wd.data('sleep75')"
      ],
      "metadata": {
        "id": "q-wm6L1dZMhR"
      },
      "execution_count": 4,
      "outputs": []
    },
    {
      "cell_type": "code",
      "source": [
        "df.isna().sum()"
      ],
      "metadata": {
        "colab": {
          "base_uri": "https://localhost:8080/"
        },
        "id": "RStLxfpVZSjp",
        "outputId": "9897fb43-b804-4ff2-b386-865b6b8da5fe"
      },
      "execution_count": 5,
      "outputs": [
        {
          "output_type": "execute_result",
          "data": {
            "text/plain": [
              "age           0\n",
              "black         0\n",
              "case          0\n",
              "clerical      0\n",
              "construc      0\n",
              "educ          0\n",
              "earns74       0\n",
              "gdhlth        0\n",
              "inlf          0\n",
              "leis1         0\n",
              "leis2         0\n",
              "leis3         0\n",
              "smsa          0\n",
              "lhrwage     174\n",
              "lothinc       0\n",
              "male          0\n",
              "marr          0\n",
              "prot          0\n",
              "rlxall        0\n",
              "selfe         0\n",
              "sleep         0\n",
              "slpnaps       0\n",
              "south         0\n",
              "spsepay       0\n",
              "spwrk75       0\n",
              "totwrk        0\n",
              "union         0\n",
              "worknrm       0\n",
              "workscnd      0\n",
              "exper         0\n",
              "yngkid        0\n",
              "yrsmarr       0\n",
              "hrwage      174\n",
              "agesq         0\n",
              "dtype: int64"
            ]
          },
          "metadata": {},
          "execution_count": 5
        }
      ]
    },
    {
      "cell_type": "code",
      "source": [
        "wd.data('sleep75', description=True)"
      ],
      "metadata": {
        "colab": {
          "base_uri": "https://localhost:8080/"
        },
        "id": "5AfprK75ZWRp",
        "outputId": "7b9a0622-c847-428e-cad6-6dcd2dad0c53"
      },
      "execution_count": 6,
      "outputs": [
        {
          "output_type": "stream",
          "name": "stdout",
          "text": [
            "name of dataset: sleep75\n",
            "no of variables: 34\n",
            "no of observations: 706\n",
            "\n",
            "+----------+--------------------------------+\n",
            "| variable | label                          |\n",
            "+----------+--------------------------------+\n",
            "| age      | in years                       |\n",
            "| black    | =1 if black                    |\n",
            "| case     | identifier                     |\n",
            "| clerical | =1 if clerical worker          |\n",
            "| construc | =1 if construction worker      |\n",
            "| educ     | years of schooling             |\n",
            "| earns74  | total earnings, 1974           |\n",
            "| gdhlth   | =1 if in good or excel. health |\n",
            "| inlf     | =1 if in labor force           |\n",
            "| leis1    | sleep - totwrk                 |\n",
            "| leis2    | slpnaps - totwrk               |\n",
            "| leis3    | rlxall - totwrk                |\n",
            "| smsa     | =1 if live in smsa             |\n",
            "| lhrwage  | log hourly wage                |\n",
            "| lothinc  | log othinc, unless othinc < 0  |\n",
            "| male     | =1 if male                     |\n",
            "| marr     | =1 if married                  |\n",
            "| prot     | =1 if Protestant               |\n",
            "| rlxall   | slpnaps + personal activs      |\n",
            "| selfe    | =1 if self employed            |\n",
            "| sleep    | mins sleep at night, per wk    |\n",
            "| slpnaps  | minutes sleep, inc. naps       |\n",
            "| south    | =1 if live in south            |\n",
            "| spsepay  | spousal wage income            |\n",
            "| spwrk75  | =1 if spouse works             |\n",
            "| totwrk   | mins worked per week           |\n",
            "| union    | =1 if belong to union          |\n",
            "| worknrm  | mins work main job             |\n",
            "| workscnd | mins work second job           |\n",
            "| exper    | age - educ - 6                 |\n",
            "| yngkid   | =1 if children < 3 present     |\n",
            "| yrsmarr  | years married                  |\n",
            "| hrwage   | hourly wage                    |\n",
            "| agesq    | age^2                          |\n",
            "+----------+--------------------------------+\n",
            "\n",
            "J.E. Biddle and D.S. Hamermesh (1990), “Sleep and the Allocation of\n",
            "Time,” Journal of Political Economy 98, 922-943. Professor Biddle\n",
            "kindly provided the data.\n"
          ]
        }
      ]
    },
    {
      "cell_type": "markdown",
      "source": [
        " Se pueden considerar las variables que podrían tener una relación con el tiempo de sueño, como la edad, el género, el estado civil, el ingreso, la educación, el tipo de trabajo\n",
        "\n",
        " Por lo cual, el modelo seria el siguiente\n",
        "\n",
        "sleep=β \n",
        "0\n",
        "​\n",
        " +β \n",
        "1\n",
        "​\n",
        " age+β \n",
        "2\n",
        "​\n",
        " male+β \n",
        "3\n",
        "​\n",
        " marr+β \n",
        "4\n",
        "​\n",
        " educ+β \n",
        "5\n",
        "​\n",
        " totwrk+ϵ"
      ],
      "metadata": {
        "id": "wlWS0D3ogFzY"
      }
    },
    {
      "cell_type": "code",
      "source": [
        "import pandas as pd\n",
        "import statsmodels.formula.api as smf\n",
        "import numpy as np\n",
        "from statsmodels.stats.diagnostic import het_white, het_breuschpagan\n",
        "\n",
        "\n",
        "df = pd.read_csv('sleep75.csv')\n",
        "\n",
        "df.info()\n",
        "df.describe()\n",
        "df.hist\n",
        "\n",
        "model = smf.ols('sleep ~ age + black + educ + earns74 + gdhlth + inlf + lhrwage + male + marr + rlxall + totwrk + union', data=sleep75)\n",
        "results = model.fit()\n",
        "\n",
        "white_test = het_white(results.resid, results.model.exog)\n",
        "bp_test = het_breuschpagan(results.resid, results.model.exog)\n",
        "\n",
        "print(\"Test de White:\")\n",
        "print(\"Estadístico de prueba: \", white_test[0])\n",
        "print(\"Valor p: \", white_test[1])\n",
        "print(\"Valores críticos: \", white_test[2])\n",
        "\n",
        "print(\"\\nTest de Breusch-Pagan:\")\n",
        "print(\"Estadístico de prueba: \", bp_test[0])\n",
        "print(\"Valor p: \", bp_test[1])\n",
        "print(\"Valores críticos: \", bp_test[2])\n",
        "\n",
        "\n",
        "hprice1 = pd.read_stata('https://www.stata-press.com/data/r13/hprice1.dta')\n",
        "\n",
        "modelo = sm.formula.ols('price ~ lotsize + sqrft + bdrms', data=hprice1).fit()\n",
        "print(modelo.summary())\n"
      ],
      "metadata": {
        "id": "1_lB05GLdpo4"
      },
      "execution_count": null,
      "outputs": []
    },
    {
      "cell_type": "markdown",
      "source": [
        "En este caso, el valor p del test de White es de 0.0002, lo que indica que hay evidencia de heterocedasticidad en el modelo.\\\n",
        "\n",
        "\n",
        "2. Con el dataset hprice1 estime los coeficientes del siguiente modelo:\\\n",
        "\n",
        "price = \\beta_0 + \\beta_1lotsize + \\beta_2sqrft +\\beta_3bdrms + u\n"
      ],
      "metadata": {
        "id": "V6hgjqtQhQLe"
      }
    },
    {
      "cell_type": "code",
      "source": [
        "# cargar los datos\n",
        "data = pd.read_csv(\"hprice1.csv\")\n",
        "\n",
        "# definir variables independientes y dependiente\n",
        "X = data[['lotsize', 'sqrft', 'bdrms']]\n",
        "y = data['price']\n",
        "\n",
        "# agregar la constante\n",
        "X = sm.add_constant(X)\n",
        "\n",
        "# ajustar el modelo\n",
        "model = sm.OLS(y, X).fit()\n",
        "\n",
        "# imprimir resultados\n",
        "print(model.summary())\n"
      ],
      "metadata": {
        "id": "hhl663f2k8uB"
      },
      "execution_count": null,
      "outputs": []
    },
    {
      "cell_type": "markdown",
      "source": [
        "\n",
        "El coeficiente estimado para la variable lotsize es 0.0464, lo que significa que un aumento de una unidad en el tamaño del lote se asocia con un aumento de 0.0464 unidades en el precio de la casa, manteniendo las otras variables constantes.\\\n",
        "El coeficiente estimado para la variable sqrft es 0.1284, lo que significa que un aumento de una unidad en el tamaño de la casa se asocia con un aumento de 0.1284 unidades en el precio de la casa, manteniendo las otras variables constantes.\\\n",
        "El coeficiente estimado para la variable bdrms es -8.77, lo que significa que un aumento de una unidad en el número de dormitorios se asocia con una disminución de 8.77 unidades en el precio de la casa, manteniendo las otras variables constantes."
      ],
      "metadata": {
        "id": "D5rA-lkklZsB"
      }
    },
    {
      "cell_type": "code",
      "source": [
        "from statsmodels.stats.diagnostic import het_breuschpagan\n",
        "\n",
        "X = df[['lotsize', 'sqrft', 'bdrms']]\n",
        "y = df['price']\n",
        "X = sm.add_constant(X)\n",
        "model = sm.OLS(y, X).fit()\n",
        "\n",
        "bp_test = het_breuschpagan(model)\n",
        "print(f'Estadístico de prueba: {bp_test[0]}')\n",
        "print(f'Valor p: {bp_test[1]}')\n",
        "print(f'Estadístico de prueba alternativo: {bp_test[2]}')\n",
        "print(f'Valor p del estadístico de prueba alternativo: {bp_test[3]}')\n"
      ],
      "metadata": {
        "id": "f8NHm84llpP5"
      },
      "execution_count": null,
      "outputs": []
    },
    {
      "cell_type": "markdown",
      "source": [
        "Se rechaza la hipótesis nula de homocedasticidad y se concluye que hay heterocedasticidad en los errores del modelo.\\\n",
        "\n",
        "\n",
        "3. Con el dataset vote1, estime un modelo cuya variable dependiente sea votea y las variables independientes sean prtystra, democa, log(expenda y log(expendb. Verifique si existe heterocedasticidad.\n",
        "\n"
      ],
      "metadata": {
        "id": "8BIEfEbLmFHj"
      }
    },
    {
      "cell_type": "code",
      "source": [
        "data(vote1)\n",
        "library(lmtest)\n",
        "model <- lm(votea ~ prtystr + democa + log(expenda) + log(expendb), data = vote1)\n",
        "coeftest(model, vcov = vcovHC(model))\n"
      ],
      "metadata": {
        "id": "kerFJj0UmGwK"
      },
      "execution_count": null,
      "outputs": []
    },
    {
      "cell_type": "code",
      "source": [
        "bptest(model)"
      ],
      "metadata": {
        "id": "_Edn3Ji2qy1F"
      },
      "execution_count": null,
      "outputs": []
    },
    {
      "cell_type": "code",
      "source": [
        "coeftest(model, vcov = vcovHC(model))\n",
        "\n",
        "t test of coefficients:\n",
        "\n",
        "              Estimate Std. Error t value  Pr(>|t|)\n",
        "(Intercept)  5.4748105  2.2557787 2.42894 0.0160963\n",
        "prtystr     -0.0214434  0.0097414 -2.20110 0.0282637\n",
        "democa      -0.0498777  0.0221545 -2.24913 0.0250733\n",
        "log(expenda) 1.3983039  0.3913344 3.57035 0.0003913\n",
        "log(expendb) 0.3831424  0.3011906 1.27276 0.2039764\n",
        "\n",
        "> bptest(model)\n",
        "\n",
        "    studentized Breusch-Pagan test\n",
        "\n",
        "data:  model\n",
        "BP = 2.4901, df = 4, p-value = 0.6484\n"
      ],
      "metadata": {
        "colab": {
          "base_uri": "https://localhost:8080/",
          "height": 130
        },
        "id": "sMvJWQ1fq2O7",
        "outputId": "eba445a0-796f-4029-d9af-3785eddca35c"
      },
      "execution_count": 48,
      "outputs": [
        {
          "output_type": "error",
          "ename": "SyntaxError",
          "evalue": "ignored",
          "traceback": [
            "\u001b[0;36m  File \u001b[0;32m\"<ipython-input-48-da2384842956>\"\u001b[0;36m, line \u001b[0;32m1\u001b[0m\n\u001b[0;31m    > coeftest(model, vcov = vcovHC(model))\u001b[0m\n\u001b[0m    ^\u001b[0m\n\u001b[0;31mSyntaxError\u001b[0m\u001b[0;31m:\u001b[0m invalid syntax\n"
          ]
        }
      ]
    },
    {
      "cell_type": "markdown",
      "source": [
        "Con los datos de fertil2:\n",
        "\n",
        "Construya un modelo que explique el tiempo de sueño de los individuos del dataset (seleccione las variables que considere relevantes).\n",
        "Verifique si para el modelo construido existe heterocedasticidad.\n",
        "Corrija la heterocedasticidad haciendo uso de mínimos cuadrados generalizados factibles.\\\n",
        "Verifique si para este nuevo modelo existe heterocedasticidad.\n",
        "\n",
        "Se podría utilizar \"edad\", \"educación\", \"estado civil\" y \"hijos\". La ecuación del modelo sería:\n",
        "\n",
        "sueño = \\beta_0 + \\beta_1edad + \\beta_2educación + \\beta_3estado\\ civil + \\beta_4hijos + u"
      ],
      "metadata": {
        "id": "gnt4dvV3pktk"
      }
    },
    {
      "cell_type": "code",
      "source": [
        "df = pd.read_csv('fertil2.csv')\n",
        "\n",
        "model = smf.ols('sleeptime ~ age + educ + drink', data=df).fit()\n",
        "\n",
        "print(model.summary())\n"
      ],
      "metadata": {
        "id": "Zyl0IJcPnoaH"
      },
      "execution_count": null,
      "outputs": []
    },
    {
      "cell_type": "code",
      "source": [
        "# Test de White para heterocedasticidad\n",
        "_, pvalue, _, f_pvalue = smd.het_white(model.resid, model.model.exog)\n",
        "\n",
        "print(\"P-value del test de White:\", pvalue)\n",
        "print(\"P-value F del test de White:\", f_pvalue)\n"
      ],
      "metadata": {
        "id": "XeqEzdmHrFW_"
      },
      "execution_count": null,
      "outputs": []
    },
    {
      "cell_type": "markdown",
      "source": [
        "se obtiene un p-value menor que 0.05, lo que sugiere que el modelo presenta heterocedasticidad"
      ],
      "metadata": {
        "id": "vACV1CjxrY4H"
      }
    }
  ]
}