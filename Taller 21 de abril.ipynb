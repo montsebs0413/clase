{
  "nbformat": 4,
  "nbformat_minor": 0,
  "metadata": {
    "colab": {
      "provenance": []
    },
    "kernelspec": {
      "name": "python3",
      "display_name": "Python 3"
    },
    "language_info": {
      "name": "python"
    }
  },
  "cells": [
    {
      "cell_type": "markdown",
      "source": [
        "Taller econometria 21/04/2023\n",
        "\n",
        "Nicolas Bocachica \\\n",
        "Andres Lozano\\\n",
        "Sebastian Montaña"
      ],
      "metadata": {
        "id": "YqlKN-qjAMcw"
      }
    },
    {
      "cell_type": "markdown",
      "source": [
        "1. Instale la libreria \"wooldridge\" e importe \"numpy\" y \"pandas\""
      ],
      "metadata": {
        "id": "bBKVCDuA-Dbu"
      }
    },
    {
      "cell_type": "code",
      "execution_count": 1,
      "metadata": {
        "colab": {
          "base_uri": "https://localhost:8080/"
        },
        "id": "Q7Yp0lhu0OxF",
        "outputId": "d29acda8-e4b3-4a5c-afbd-a1b9f9319ea9"
      },
      "outputs": [
        {
          "output_type": "stream",
          "name": "stdout",
          "text": [
            "Looking in indexes: https://pypi.org/simple, https://us-python.pkg.dev/colab-wheels/public/simple/\n",
            "Collecting wooldridge\n",
            "  Downloading wooldridge-0.4.4-py3-none-any.whl (5.1 MB)\n",
            "\u001b[2K     \u001b[90m━━━━━━━━━━━━━━━━━━━━━━━━━━━━━━━━━━━━━━━━\u001b[0m \u001b[32m5.1/5.1 MB\u001b[0m \u001b[31m35.2 MB/s\u001b[0m eta \u001b[36m0:00:00\u001b[0m\n",
            "\u001b[?25hRequirement already satisfied: pandas in /usr/local/lib/python3.9/dist-packages (from wooldridge) (1.5.3)\n",
            "Requirement already satisfied: pytz>=2020.1 in /usr/local/lib/python3.9/dist-packages (from pandas->wooldridge) (2022.7.1)\n",
            "Requirement already satisfied: numpy>=1.20.3 in /usr/local/lib/python3.9/dist-packages (from pandas->wooldridge) (1.22.4)\n",
            "Requirement already satisfied: python-dateutil>=2.8.1 in /usr/local/lib/python3.9/dist-packages (from pandas->wooldridge) (2.8.2)\n",
            "Requirement already satisfied: six>=1.5 in /usr/local/lib/python3.9/dist-packages (from python-dateutil>=2.8.1->pandas->wooldridge) (1.16.0)\n",
            "Installing collected packages: wooldridge\n",
            "Successfully installed wooldridge-0.4.4\n"
          ]
        }
      ],
      "source": [
        "!pip install wooldridge"
      ]
    },
    {
      "cell_type": "code",
      "source": [
        "import numpy as np\n",
        "import pandas as pd\n"
      ],
      "metadata": {
        "id": "JZGgsU5U6oM4"
      },
      "execution_count": 2,
      "outputs": []
    },
    {
      "cell_type": "markdown",
      "source": [
        "2. Cargue el dataset \"wage1\" y guardelo en una variable. Conserve unicamente las columnas \"exper\", \"educ\" y \"wage\""
      ],
      "metadata": {
        "id": "XcPVnmkz-HtT"
      }
    },
    {
      "cell_type": "code",
      "source": [
        "from wooldridge import data\n",
        "wage1 = data('wage1')\n"
      ],
      "metadata": {
        "id": "F-gdJLZ47AHK"
      },
      "execution_count": 3,
      "outputs": []
    },
    {
      "cell_type": "code",
      "source": [
        "wage1_seleccion = wage1.loc[:, [\"exper\", \"educ\", \"wage\"]]\n"
      ],
      "metadata": {
        "id": "pbQTavda7pyL"
      },
      "execution_count": 5,
      "outputs": []
    },
    {
      "cell_type": "markdown",
      "source": [
        "3. Pase el dataframe a un array de \"numpy\""
      ],
      "metadata": {
        "id": "Ng7nOwAD-QTl"
      }
    },
    {
      "cell_type": "code",
      "source": [
        "wage1_array = wage1_seleccion.values\n"
      ],
      "metadata": {
        "id": "yQvHgM4S7xdf"
      },
      "execution_count": 6,
      "outputs": []
    },
    {
      "cell_type": "markdown",
      "source": [
        "4.Sin ayuda de otra libreria diferente a \"numpy\":\n",
        "\n",
        "1. Calcule los coeficientes\n",
        "2.Calcule los errores estandar\n",
        "3.Calcule los estadisticos t\n",
        "4. Calcule los intervalos de confianza\n",
        "\n",
        "\n",
        "\n"
      ],
      "metadata": {
        "id": "uQhEGB2T9Dxr"
      }
    },
    {
      "cell_type": "markdown",
      "source": [
        "Coeficientes"
      ],
      "metadata": {
        "id": "tcWcwNPu9XT6"
      }
    },
    {
      "cell_type": "code",
      "source": [
        "X = wage1_array[:, :-1]\n",
        "y = wage1_array[:, -1]\n",
        "coef, _, _, _ = np.linalg.lstsq(X, y, rcond=None)\n"
      ],
      "metadata": {
        "id": "oTt6pF4S8cev"
      },
      "execution_count": 7,
      "outputs": []
    },
    {
      "cell_type": "markdown",
      "source": [
        "Erorres estandar"
      ],
      "metadata": {
        "id": "mK2y6BgN9Z-s"
      }
    },
    {
      "cell_type": "code",
      "source": [
        "n_obs, n_var = X.shape\n",
        "residuos = y - X @ coef\n",
        "std_error = np.std(residuos, ddof=n_var) / np.sqrt(n_obs - n_var)\n"
      ],
      "metadata": {
        "id": "SI3Bk9h08_hp"
      },
      "execution_count": 9,
      "outputs": []
    },
    {
      "cell_type": "markdown",
      "source": [
        "Estadisticos t"
      ],
      "metadata": {
        "id": "0CyrC44o9gqn"
      }
    },
    {
      "cell_type": "code",
      "source": [
        "t_stats = coef / std_error\n"
      ],
      "metadata": {
        "id": "qMKuS22L9S4y"
      },
      "execution_count": 10,
      "outputs": []
    },
    {
      "cell_type": "markdown",
      "source": [
        "Intervalos de confianza"
      ],
      "metadata": {
        "id": "gPdHNRF89oH-"
      }
    },
    {
      "cell_type": "code",
      "source": [
        "from scipy.stats import t\n",
        "alpha = 0.05  # nivel de confianza del 95%\n",
        "t_critico = t.ppf(1 - alpha/2, n_obs - n_var)\n",
        "intervalo_inf = coef - t_critico * std_error\n",
        "intervalo_sup = coef + t_critico * std_error\n"
      ],
      "metadata": {
        "id": "LVWSMQUn9qdH"
      },
      "execution_count": 11,
      "outputs": []
    },
    {
      "cell_type": "markdown",
      "source": [
        "5. Interprete los coeficientes y determine la significancia estadistica\n",
        "\n",
        "Los coeficientes obtenidos son los siguientes:\n",
        "\n",
        "beta0 = 0.58315906 , \n",
        "beta1 = 0.03210154 ,\n",
        "beta2 = 0.51001675\n",
        "\n",
        "En el caso del intercepto, el valor esperado del salario cuando la experiencia y la educación son cero es de $0.58.\n",
        "\n",
        "Por el lado de \"beta1\" o \"exper\",  se espera que por cada año adicional de experiencia, el salario aumente en promedio $0.032.\n",
        "\n",
        "finalmente, en cuanto a \"beta2\" o \"educ\",  se espera que por cada año adicional de educación, el salario aumente en promedio $0.51.\n",
        "\n",
        "en cuanto a la significancia obtenida en este ejercicio, tenemos que:\n",
        "\n",
        "Los p-valores obtenidos son los siguientes:\n",
        "\n",
        "p0 = 1.88009107e-01\n",
        "p1 = 5.58367626e-07\n",
        "p2 = 2.61879068e-17\n",
        "\n",
        "Podemos decir que los coeficientes \"exper\" y \"educ\" son estadisticamente significativos, ya que sus p valores son menores a 0.05, ypor el lado del intercepto podemos aclarar que este no es estadisticamente significativo, siendo mayor a 0.05\n",
        "\n"
      ],
      "metadata": {
        "id": "Jg8t1uee98Kd"
      }
    }
  ]
}